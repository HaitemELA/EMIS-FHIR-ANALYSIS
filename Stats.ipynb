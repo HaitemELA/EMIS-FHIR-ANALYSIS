{
 "cells": [
  {
   "cell_type": "code",
   "execution_count": 1,
   "metadata": {},
   "outputs": [
    {
     "name": "stderr",
     "output_type": "stream",
     "text": [
      "c:\\Users\\Imtech\\AppData\\Local\\Programs\\Python\\Python39\\lib\\site-packages\\requests\\__init__.py:87: RequestsDependencyWarning: urllib3 (2.1.0) or chardet (4.0.0) doesn't match a supported version!\n",
      "  warnings.warn(\"urllib3 ({}) or chardet ({}) doesn't match a supported \"\n"
     ]
    },
    {
     "data": {
      "application/vnd.jupyter.widget-view+json": {
       "model_id": "d678fd68b46b44299c8cbf11c32e1d1f",
       "version_major": 2,
       "version_minor": 0
      },
      "text/plain": [
       "0it [00:00, ?it/s]"
      ]
     },
     "metadata": {},
     "output_type": "display_data"
    },
    {
     "data": {
      "application/vnd.jupyter.widget-view+json": {
       "model_id": "a4760ec404f943bd87086697b64b3d2b",
       "version_major": 2,
       "version_minor": 0
      },
      "text/plain": [
       "  0%|          | 0/22 [00:00<?, ?it/s]"
      ]
     },
     "metadata": {},
     "output_type": "display_data"
    },
    {
     "data": {
      "application/vnd.jupyter.widget-view+json": {
       "model_id": "895f8ce4febb4e968a91c2117a2d6106",
       "version_major": 2,
       "version_minor": 0
      },
      "text/plain": [
       "0it [00:00, ?it/s]"
      ]
     },
     "metadata": {},
     "output_type": "display_data"
    },
    {
     "data": {
      "application/vnd.jupyter.widget-view+json": {
       "model_id": "b1a5df0f96d14ed3b718b63d365ebdfd",
       "version_major": 2,
       "version_minor": 0
      },
      "text/plain": [
       "  0%|          | 0/22 [00:00<?, ?it/s]"
      ]
     },
     "metadata": {},
     "output_type": "display_data"
    }
   ],
   "source": [
    "import os\n",
    "import requests\n",
    "import json\n",
    "import pandas as pd\n",
    "import plotly.express as px\n",
    "from tqdm.notebook import tqdm_notebook\n",
    "\n",
    "\n",
    "# Specify the root directory containing FHIR bundles (JSON files)\n",
    "root_directory = r'C:\\Users\\Imtech\\Downloads\\EMIS\\BUNDLES'\n",
    "\n",
    "# Specify the base URL for the FHIR server\n",
    "base_url = \"http://localhost:52775/csp/healthshare/fhir/fhir/r3\"\n",
    "\n",
    "# Set headers for the request\n",
    "headers = {\n",
    "    'Accept': 'application/fhir+json',\n",
    "    'Content-Type': 'application/fhir+json'\n",
    "}\n",
    "\n",
    "# Function to get individual resources from a FHIR bundle\n",
    "def get_resources(bundle):\n",
    "    resources = []\n",
    "\n",
    "    for entry in bundle.get('entry', []):\n",
    "        # Assuming each entry has a 'resource'\n",
    "        resource = entry.get('resource')\n",
    "        resource['id'] = resource.get('id')\n",
    "\n",
    "        if resource:       \n",
    "            resources.append(resource)\n",
    "\n",
    "    return resources\n",
    "\n",
    "# Function to sort resources based on dependencies (references)\n",
    "def sort_resources(resources):\n",
    "    sorted_resources = []\n",
    "    processed_ids = set()\n",
    "\n",
    "    def process_resource(resource):\n",
    "        if resource['id'] not in processed_ids:\n",
    "            for reference in resource.get('contained', []):\n",
    "                process_resource(reference)\n",
    "\n",
    "            sorted_resources.append(resource)\n",
    "            processed_ids.add(resource['id'])\n",
    "\n",
    "    for resource in resources:\n",
    "        process_resource(resource)\n",
    "\n",
    "    return sorted_resources\n",
    "\n",
    "def handle_response_error(response, resource, json_file_path):\n",
    "    if response.status_code not in [200, 201]:\n",
    "        error_info = {\n",
    "            'resourceType': resource.get('resourceType', ''),\n",
    "            'resourceId': resource.get('id', ''),\n",
    "            'diagnostics': '',\n",
    "            'text': '',\n",
    "            'expression': ''\n",
    "        }\n",
    "\n",
    "        try:\n",
    "            error_json = response.json()\n",
    "            if 'issue' in error_json:\n",
    "                issue = error_json['issue'][0]\n",
    "                error_info['diagnostics'] = issue.get('diagnostics', '')\n",
    "                error_info['expression'] = issue.get('expression', [])\n",
    "                error_info['text'] = issue.get('details', {}).get('text', '')\n",
    "        except json.JSONDecodeError:\n",
    "            error_info['diagnostics'] = response.text\n",
    "\n",
    "        return error_info\n",
    "    else:\n",
    "        error_info = {\n",
    "            'resourceType': resource.get('resourceType', ''),\n",
    "            'resourceId': resource.get('id', ''),\n",
    "            'diagnostics': 'OK',\n",
    "            'text': 'OK',\n",
    "            'expression': 'OK'\n",
    "        }\n",
    "        return error_info\n",
    "\n",
    "# Function to send a single FHIR resource to the server\n",
    "def send_resource(resource, json_file_path, error_info_list):\n",
    "    resource_id = resource['id']\n",
    "    endpoint_url = f\"{base_url}/{resource['resourceType']}/{resource_id}\"\n",
    "\n",
    "    response = requests.put(endpoint_url, headers=headers, json=resource)\n",
    "\n",
    "    error_info = handle_response_error(response, resource, json_file_path)\n",
    "    if error_info:\n",
    "        error_info_list.append(error_info)\n",
    "\n",
    "\n",
    "def create_layout():\n",
    "    error_info_list = []\n",
    "    for foldername, _, filenames in tqdm_notebook(os.walk(root_directory)):\n",
    "        for filename in filenames:\n",
    "            if filename.endswith('.json'):\n",
    "                json_file_path = os.path.join(foldername, filename)\n",
    "                with open(json_file_path, encoding=\"utf8\") as file:\n",
    "                    fhir_bundle = json.load(file)\n",
    "                    #print(fhir_bundle)\n",
    "                fhir_resources = get_resources(fhir_bundle)\n",
    "                sorted_resources = sort_resources(fhir_resources)\n",
    "                for resource in sorted_resources:\n",
    "                    send_resource(resource, json_file_path, error_info_list)\n",
    "    # Create a Pandas DataFrame from the error_info_list\n",
    "    df = pd.DataFrame(error_info_list)\n",
    "    df_filtered = df\n",
    "\n",
    "    #Remove resource Types having 0 issue\n",
    "    for resource_type in tqdm_notebook(df_filtered['resourceType'].unique().tolist()):\n",
    "        if df_filtered[df_filtered['resourceType'] == resource_type]['diagnostics'].nunique() == 1 and df_filtered[df_filtered['resourceType'] == resource_type]['diagnostics'].unique()[0] == 'OK':\n",
    "            df_filtered = df_filtered[df_filtered['resourceType'] != resource_type]\n",
    "\n",
    "    # Cleansing\n",
    "    df['diagnostics'] = df['diagnostics'].str.replace('<HSFHIRErr>', '', regex=True)\n",
    "    df_filtered['diagnostics'] = df_filtered['diagnostics'].str.replace('<HSFHIRErr>', '', regex=True)\n",
    "\n",
    "    return df, df_filtered\n",
    "\n",
    "df = create_layout()[0]\n",
    "df_filtered = create_layout()[1]"
   ]
  },
  {
   "cell_type": "code",
   "execution_count": 2,
   "metadata": {},
   "outputs": [
    {
     "data": {
      "text/plain": [
       "(array(['EmptyValue', 'OK', 'InvalidReferenceTarget',\n",
       "        'MissingRequiredProperty'], dtype=object),\n",
       " array(['EmptyValue', 'OK', 'InvalidReferenceTarget',\n",
       "        'MissingRequiredProperty'], dtype=object))"
      ]
     },
     "execution_count": 2,
     "metadata": {},
     "output_type": "execute_result"
    }
   ],
   "source": [
    "df.diagnostics.unique(), df_filtered.diagnostics.unique()"
   ]
  },
  {
   "cell_type": "code",
   "execution_count": 3,
   "metadata": {},
   "outputs": [
    {
     "data": {
      "text/html": [
       "<div>\n",
       "<style scoped>\n",
       "    .dataframe tbody tr th:only-of-type {\n",
       "        vertical-align: middle;\n",
       "    }\n",
       "\n",
       "    .dataframe tbody tr th {\n",
       "        vertical-align: top;\n",
       "    }\n",
       "\n",
       "    .dataframe thead th {\n",
       "        text-align: right;\n",
       "    }\n",
       "</style>\n",
       "<table border=\"1\" class=\"dataframe\">\n",
       "  <thead>\n",
       "    <tr style=\"text-align: right;\">\n",
       "      <th></th>\n",
       "      <th>resourceType</th>\n",
       "      <th>resourceId</th>\n",
       "      <th>diagnostics</th>\n",
       "      <th>text</th>\n",
       "      <th>expression</th>\n",
       "    </tr>\n",
       "  </thead>\n",
       "  <tbody>\n",
       "    <tr>\n",
       "      <th>count</th>\n",
       "      <td>90824</td>\n",
       "      <td>90350</td>\n",
       "      <td>90824</td>\n",
       "      <td>90824</td>\n",
       "      <td>90824</td>\n",
       "    </tr>\n",
       "    <tr>\n",
       "      <th>unique</th>\n",
       "      <td>22</td>\n",
       "      <td>11641</td>\n",
       "      <td>4</td>\n",
       "      <td>117</td>\n",
       "      <td>13</td>\n",
       "    </tr>\n",
       "    <tr>\n",
       "      <th>top</th>\n",
       "      <td>Observation</td>\n",
       "      <td>5E496953-065B-41F2-9577-BE8F2FBD0757</td>\n",
       "      <td>OK</td>\n",
       "      <td>OK</td>\n",
       "      <td>OK</td>\n",
       "    </tr>\n",
       "    <tr>\n",
       "      <th>freq</th>\n",
       "      <td>24831</td>\n",
       "      <td>475</td>\n",
       "      <td>87783</td>\n",
       "      <td>87783</td>\n",
       "      <td>87783</td>\n",
       "    </tr>\n",
       "  </tbody>\n",
       "</table>\n",
       "</div>"
      ],
      "text/plain": [
       "       resourceType                            resourceId diagnostics   text   \n",
       "count         90824                                 90350       90824  90824  \\\n",
       "unique           22                                 11641           4    117   \n",
       "top     Observation  5E496953-065B-41F2-9577-BE8F2FBD0757          OK     OK   \n",
       "freq          24831                                   475       87783  87783   \n",
       "\n",
       "       expression  \n",
       "count       90824  \n",
       "unique         13  \n",
       "top            OK  \n",
       "freq        87783  "
      ]
     },
     "execution_count": 3,
     "metadata": {},
     "output_type": "execute_result"
    }
   ],
   "source": [
    "df.describe()"
   ]
  },
  {
   "cell_type": "code",
   "execution_count": 4,
   "metadata": {},
   "outputs": [
    {
     "data": {
      "text/html": [
       "<div>\n",
       "<style scoped>\n",
       "    .dataframe tbody tr th:only-of-type {\n",
       "        vertical-align: middle;\n",
       "    }\n",
       "\n",
       "    .dataframe tbody tr th {\n",
       "        vertical-align: top;\n",
       "    }\n",
       "\n",
       "    .dataframe thead th {\n",
       "        text-align: right;\n",
       "    }\n",
       "</style>\n",
       "<table border=\"1\" class=\"dataframe\">\n",
       "  <thead>\n",
       "    <tr style=\"text-align: right;\">\n",
       "      <th></th>\n",
       "      <th>resourceType</th>\n",
       "      <th>resourceId</th>\n",
       "      <th>diagnostics</th>\n",
       "      <th>text</th>\n",
       "      <th>expression</th>\n",
       "    </tr>\n",
       "  </thead>\n",
       "  <tbody>\n",
       "    <tr>\n",
       "      <th>count</th>\n",
       "      <td>67147</td>\n",
       "      <td>66673</td>\n",
       "      <td>67147</td>\n",
       "      <td>67147</td>\n",
       "      <td>67147</td>\n",
       "    </tr>\n",
       "    <tr>\n",
       "      <th>unique</th>\n",
       "      <td>8</td>\n",
       "      <td>6395</td>\n",
       "      <td>4</td>\n",
       "      <td>117</td>\n",
       "      <td>13</td>\n",
       "    </tr>\n",
       "    <tr>\n",
       "      <th>top</th>\n",
       "      <td>Observation</td>\n",
       "      <td>EB3994A6-5A87-4B53-A414-913137072F57</td>\n",
       "      <td>OK</td>\n",
       "      <td>OK</td>\n",
       "      <td>OK</td>\n",
       "    </tr>\n",
       "    <tr>\n",
       "      <th>freq</th>\n",
       "      <td>24831</td>\n",
       "      <td>475</td>\n",
       "      <td>64106</td>\n",
       "      <td>64106</td>\n",
       "      <td>64106</td>\n",
       "    </tr>\n",
       "  </tbody>\n",
       "</table>\n",
       "</div>"
      ],
      "text/plain": [
       "       resourceType                            resourceId diagnostics   text   \n",
       "count         67147                                 66673       67147  67147  \\\n",
       "unique            8                                  6395           4    117   \n",
       "top     Observation  EB3994A6-5A87-4B53-A414-913137072F57          OK     OK   \n",
       "freq          24831                                   475       64106  64106   \n",
       "\n",
       "       expression  \n",
       "count       67147  \n",
       "unique         13  \n",
       "top            OK  \n",
       "freq        64106  "
      ]
     },
     "execution_count": 4,
     "metadata": {},
     "output_type": "execute_result"
    }
   ],
   "source": [
    "df_filtered.describe()"
   ]
  },
  {
   "cell_type": "code",
   "execution_count": 14,
   "metadata": {},
   "outputs": [
    {
     "name": "stdout",
     "output_type": "stream",
     "text": [
      "5246\n",
      "2FE2854D-CF58-4AEE-8F71-257ADF74FE21\n"
     ]
    }
   ],
   "source": [
    "li1 = df['resourceId'].unique().tolist()\n",
    "s = df_filtered['resourceId'].unique().tolist()\n",
    "temp3 = [x for x in li1 if x not in s]\n",
    "print(len(temp3))\n",
    "print(temp3[0])"
   ]
  },
  {
   "cell_type": "code",
   "execution_count": 5,
   "metadata": {},
   "outputs": [
    {
     "data": {
      "text/html": [
       "<div>\n",
       "<style scoped>\n",
       "    .dataframe tbody tr th:only-of-type {\n",
       "        vertical-align: middle;\n",
       "    }\n",
       "\n",
       "    .dataframe tbody tr th {\n",
       "        vertical-align: top;\n",
       "    }\n",
       "\n",
       "    .dataframe thead th {\n",
       "        text-align: right;\n",
       "    }\n",
       "</style>\n",
       "<table border=\"1\" class=\"dataframe\">\n",
       "  <thead>\n",
       "    <tr style=\"text-align: right;\">\n",
       "      <th></th>\n",
       "      <th>resourceType</th>\n",
       "      <th>resourceId</th>\n",
       "      <th>diagnostics</th>\n",
       "      <th>text</th>\n",
       "      <th>expression</th>\n",
       "    </tr>\n",
       "  </thead>\n",
       "  <tbody>\n",
       "    <tr>\n",
       "      <th>27333</th>\n",
       "      <td>Observation</td>\n",
       "      <td>FE4B1ADC-1E71-4577-952D-99DC7E1C918B</td>\n",
       "      <td>InvalidReferenceTarget</td>\n",
       "      <td>The referenced resource type 'HealthcareServic...</td>\n",
       "      <td>[Observation.performer[4]]</td>\n",
       "    </tr>\n",
       "    <tr>\n",
       "      <th>31324</th>\n",
       "      <td>Observation</td>\n",
       "      <td>71CB96DB-F5FB-4384-BF9D-0612432A91DC</td>\n",
       "      <td>OK</td>\n",
       "      <td>OK</td>\n",
       "      <td>OK</td>\n",
       "    </tr>\n",
       "    <tr>\n",
       "      <th>72323</th>\n",
       "      <td>Observation</td>\n",
       "      <td>3823BE08-0EA3-418C-AB4B-5CDC254CDDD7</td>\n",
       "      <td>OK</td>\n",
       "      <td>OK</td>\n",
       "      <td>OK</td>\n",
       "    </tr>\n",
       "    <tr>\n",
       "      <th>81286</th>\n",
       "      <td>List</td>\n",
       "      <td>6244FA36-A8BC-43BE-A845-A6E7368EA578-PG0</td>\n",
       "      <td>OK</td>\n",
       "      <td>OK</td>\n",
       "      <td>OK</td>\n",
       "    </tr>\n",
       "    <tr>\n",
       "      <th>18021</th>\n",
       "      <td>MedicationRequest</td>\n",
       "      <td>E502C0F6-F0A9-4D1F-AE52-9E6161CB4D2A</td>\n",
       "      <td>OK</td>\n",
       "      <td>OK</td>\n",
       "      <td>OK</td>\n",
       "    </tr>\n",
       "    <tr>\n",
       "      <th>43665</th>\n",
       "      <td>Encounter</td>\n",
       "      <td>C98E0E00-4D1C-11E3-A2DD-010000000161</td>\n",
       "      <td>OK</td>\n",
       "      <td>OK</td>\n",
       "      <td>OK</td>\n",
       "    </tr>\n",
       "    <tr>\n",
       "      <th>47612</th>\n",
       "      <td>MedicationRequest</td>\n",
       "      <td>9C07E604-E7D8-4D7C-A130-138565FF4BE3</td>\n",
       "      <td>OK</td>\n",
       "      <td>OK</td>\n",
       "      <td>OK</td>\n",
       "    </tr>\n",
       "    <tr>\n",
       "      <th>72624</th>\n",
       "      <td>List</td>\n",
       "      <td>FE642D6E-A729-47E9-9512-B0DEA7AC36A1-LST</td>\n",
       "      <td>OK</td>\n",
       "      <td>OK</td>\n",
       "      <td>OK</td>\n",
       "    </tr>\n",
       "    <tr>\n",
       "      <th>78688</th>\n",
       "      <td>Observation</td>\n",
       "      <td>E85D812C-0A81-4CC6-AFA0-095D93B0E295</td>\n",
       "      <td>OK</td>\n",
       "      <td>OK</td>\n",
       "      <td>OK</td>\n",
       "    </tr>\n",
       "    <tr>\n",
       "      <th>62180</th>\n",
       "      <td>Observation</td>\n",
       "      <td>F5844A0C-9CDB-411B-B56C-BDE7A3584C03</td>\n",
       "      <td>OK</td>\n",
       "      <td>OK</td>\n",
       "      <td>OK</td>\n",
       "    </tr>\n",
       "    <tr>\n",
       "      <th>18283</th>\n",
       "      <td>MedicationRequest</td>\n",
       "      <td>94801F96-81C9-49EE-80C7-CE4D7309A91D</td>\n",
       "      <td>OK</td>\n",
       "      <td>OK</td>\n",
       "      <td>OK</td>\n",
       "    </tr>\n",
       "    <tr>\n",
       "      <th>38024</th>\n",
       "      <td>List</td>\n",
       "      <td>DDB4563A-B1F6-460F-BEE9-A8F9AEB0D753-PG0-HD0</td>\n",
       "      <td>OK</td>\n",
       "      <td>OK</td>\n",
       "      <td>OK</td>\n",
       "    </tr>\n",
       "    <tr>\n",
       "      <th>61387</th>\n",
       "      <td>List</td>\n",
       "      <td>3CBEBF4E-D1FC-417D-8E2E-4799A0E02E36-PG0</td>\n",
       "      <td>OK</td>\n",
       "      <td>OK</td>\n",
       "      <td>OK</td>\n",
       "    </tr>\n",
       "    <tr>\n",
       "      <th>86960</th>\n",
       "      <td>Specimen</td>\n",
       "      <td>56E56C3D-E9C1-42E2-ABFE-B06E04B1ADA2-SPEC-0</td>\n",
       "      <td>OK</td>\n",
       "      <td>OK</td>\n",
       "      <td>OK</td>\n",
       "    </tr>\n",
       "    <tr>\n",
       "      <th>55519</th>\n",
       "      <td>MedicationRequest</td>\n",
       "      <td>0B156778-7399-4917-86A0-9916E6CD6863-HD-2</td>\n",
       "      <td>OK</td>\n",
       "      <td>OK</td>\n",
       "      <td>OK</td>\n",
       "    </tr>\n",
       "  </tbody>\n",
       "</table>\n",
       "</div>"
      ],
      "text/plain": [
       "            resourceType                                    resourceId   \n",
       "27333        Observation          FE4B1ADC-1E71-4577-952D-99DC7E1C918B  \\\n",
       "31324        Observation          71CB96DB-F5FB-4384-BF9D-0612432A91DC   \n",
       "72323        Observation          3823BE08-0EA3-418C-AB4B-5CDC254CDDD7   \n",
       "81286               List      6244FA36-A8BC-43BE-A845-A6E7368EA578-PG0   \n",
       "18021  MedicationRequest          E502C0F6-F0A9-4D1F-AE52-9E6161CB4D2A   \n",
       "43665          Encounter          C98E0E00-4D1C-11E3-A2DD-010000000161   \n",
       "47612  MedicationRequest          9C07E604-E7D8-4D7C-A130-138565FF4BE3   \n",
       "72624               List      FE642D6E-A729-47E9-9512-B0DEA7AC36A1-LST   \n",
       "78688        Observation          E85D812C-0A81-4CC6-AFA0-095D93B0E295   \n",
       "62180        Observation          F5844A0C-9CDB-411B-B56C-BDE7A3584C03   \n",
       "18283  MedicationRequest          94801F96-81C9-49EE-80C7-CE4D7309A91D   \n",
       "38024               List  DDB4563A-B1F6-460F-BEE9-A8F9AEB0D753-PG0-HD0   \n",
       "61387               List      3CBEBF4E-D1FC-417D-8E2E-4799A0E02E36-PG0   \n",
       "86960           Specimen   56E56C3D-E9C1-42E2-ABFE-B06E04B1ADA2-SPEC-0   \n",
       "55519  MedicationRequest     0B156778-7399-4917-86A0-9916E6CD6863-HD-2   \n",
       "\n",
       "                  diagnostics   \n",
       "27333  InvalidReferenceTarget  \\\n",
       "31324                      OK   \n",
       "72323                      OK   \n",
       "81286                      OK   \n",
       "18021                      OK   \n",
       "43665                      OK   \n",
       "47612                      OK   \n",
       "72624                      OK   \n",
       "78688                      OK   \n",
       "62180                      OK   \n",
       "18283                      OK   \n",
       "38024                      OK   \n",
       "61387                      OK   \n",
       "86960                      OK   \n",
       "55519                      OK   \n",
       "\n",
       "                                                    text   \n",
       "27333  The referenced resource type 'HealthcareServic...  \\\n",
       "31324                                                 OK   \n",
       "72323                                                 OK   \n",
       "81286                                                 OK   \n",
       "18021                                                 OK   \n",
       "43665                                                 OK   \n",
       "47612                                                 OK   \n",
       "72624                                                 OK   \n",
       "78688                                                 OK   \n",
       "62180                                                 OK   \n",
       "18283                                                 OK   \n",
       "38024                                                 OK   \n",
       "61387                                                 OK   \n",
       "86960                                                 OK   \n",
       "55519                                                 OK   \n",
       "\n",
       "                       expression  \n",
       "27333  [Observation.performer[4]]  \n",
       "31324                          OK  \n",
       "72323                          OK  \n",
       "81286                          OK  \n",
       "18021                          OK  \n",
       "43665                          OK  \n",
       "47612                          OK  \n",
       "72624                          OK  \n",
       "78688                          OK  \n",
       "62180                          OK  \n",
       "18283                          OK  \n",
       "38024                          OK  \n",
       "61387                          OK  \n",
       "86960                          OK  \n",
       "55519                          OK  "
      ]
     },
     "execution_count": 5,
     "metadata": {},
     "output_type": "execute_result"
    }
   ],
   "source": [
    "df_filtered.sample(15)"
   ]
  },
  {
   "cell_type": "code",
   "execution_count": 16,
   "metadata": {},
   "outputs": [],
   "source": [
    "for resource_type in df_filtered['resourceType'].unique().tolist():\n",
    "    mask = df_filtered['resourceType'] == resource_type\n",
    "    for diagnostic in df_filtered['diagnostics'].unique().tolist():\n",
    "        mask2 = df_filtered.loc[mask, 'diagnostics'] == diagnostic\n",
    "        df_filtered.loc[mask & mask2, 'Count'] = mask2.sum()\n",
    "        df_filtered.loc[mask & mask2, 'ResourceTypeCount'] = mask.sum()\n",
    "        df_filtered.loc[mask & mask2, 'Percentage'] = (mask2.sum() / len(mask2)) * 100\n",
    "\n",
    "# Convert Percentage to XX.X% format\n",
    "df_filtered['Percentage'] = df_filtered['Percentage'].apply(lambda x: f\"{x:.1f}\")\n",
    "# Convert ResourceTypeCount to integers\n",
    "df_filtered['ResourceTypeCount'] = df_filtered['ResourceTypeCount'].astype(int)\n",
    "df_filtered['Count'] = df_filtered['Count'].astype(int)"
   ]
  },
  {
   "cell_type": "code",
   "execution_count": 57,
   "metadata": {},
   "outputs": [
    {
     "data": {
      "text/plain": [
       "array(['List', 'Location', 'MedicationRequest', 'Encounter', 'Specimen',\n",
       "       'DiagnosticReport'], dtype=object)"
      ]
     },
     "execution_count": 57,
     "metadata": {},
     "output_type": "execute_result"
    }
   ],
   "source": [
    "df_filtered[df_filtered.diagnostics=='EmptyValue']['resourceType'].unique()\n"
   ]
  },
  {
   "cell_type": "code",
   "execution_count": 61,
   "metadata": {},
   "outputs": [
    {
     "data": {
      "text/plain": [
       "array([\"Property 'value' of Type 'Identifier' cannot be null or an empty string.\"],\n",
       "      dtype=object)"
      ]
     },
     "execution_count": 61,
     "metadata": {},
     "output_type": "execute_result"
    }
   ],
   "source": [
    "df_filtered[(df_filtered.diagnostics=='EmptyValue') & (df_filtered.resourceType=='DiagnosticReport')]['text'].unique()"
   ]
  },
  {
   "cell_type": "code",
   "execution_count": 62,
   "metadata": {},
   "outputs": [
    {
     "data": {
      "application/vnd.plotly.v1+json": {
       "config": {
        "plotlyServerURL": "https://plot.ly"
       },
       "data": [
        {
         "alignmentgroup": "True",
         "bingroup": "x",
         "histfunc": "sum",
         "hovertemplate": "diagnostics=OK<br>resourceType=%{x}<br>sum of Percentage=%{y}<extra></extra>",
         "legendgroup": "OK",
         "marker": {
          "color": "#3366CC",
          "line": {
           "color": "rgb(8,48,107)",
           "width": 0.1
          },
          "pattern": {
           "shape": ""
          }
         },
         "name": "OK",
         "offsetgroup": "OK",
         "opacity": 0.8,
         "orientation": "v",
         "showlegend": true,
         "texttemplate": "%{value}",
         "type": "histogram",
         "x": [
          "DiagnosticReport",
          "List",
          "Location",
          "Observation",
          "QuestionnaireResponse"
         ],
         "xaxis": "x",
         "y": [
          "78.7",
          "97.4",
          "67.5",
          "92.7",
          "55.3"
         ],
         "yaxis": "y"
        },
        {
         "alignmentgroup": "True",
         "bingroup": "x",
         "histfunc": "sum",
         "hovertemplate": "diagnostics=InvalidReferenceTarget<br>resourceType=%{x}<br>sum of Percentage=%{y}<extra></extra>",
         "legendgroup": "InvalidReferenceTarget",
         "marker": {
          "color": "#DC3912",
          "line": {
           "color": "rgb(8,48,107)",
           "width": 0.1
          },
          "pattern": {
           "shape": ""
          }
         },
         "name": "InvalidReferenceTarget",
         "offsetgroup": "InvalidReferenceTarget",
         "opacity": 0.8,
         "orientation": "v",
         "showlegend": true,
         "texttemplate": "%{value}",
         "type": "histogram",
         "x": [
          "DiagnosticReport",
          "Observation"
         ],
         "xaxis": "x",
         "y": [
          "21.0",
          "7.3"
         ],
         "yaxis": "y"
        },
        {
         "alignmentgroup": "True",
         "bingroup": "x",
         "histfunc": "sum",
         "hovertemplate": "diagnostics=EmptyValue<br>resourceType=%{x}<br>sum of Percentage=%{y}<extra></extra>",
         "legendgroup": "EmptyValue",
         "marker": {
          "color": "#FF9900",
          "line": {
           "color": "rgb(8,48,107)",
           "width": 0.1
          },
          "pattern": {
           "shape": ""
          }
         },
         "name": "EmptyValue",
         "offsetgroup": "EmptyValue",
         "opacity": 0.8,
         "orientation": "v",
         "showlegend": true,
         "texttemplate": "%{value}",
         "type": "histogram",
         "x": [
          "DiagnosticReport",
          "List",
          "Location"
         ],
         "xaxis": "x",
         "y": [
          "0.2",
          "2.6",
          "32.5"
         ],
         "yaxis": "y"
        },
        {
         "alignmentgroup": "True",
         "bingroup": "x",
         "histfunc": "sum",
         "hovertemplate": "diagnostics=MissingRequiredProperty<br>resourceType=%{x}<br>sum of Percentage=%{y}<extra></extra>",
         "legendgroup": "MissingRequiredProperty",
         "marker": {
          "color": "#109618",
          "line": {
           "color": "rgb(8,48,107)",
           "width": 0.1
          },
          "pattern": {
           "shape": ""
          }
         },
         "name": "MissingRequiredProperty",
         "offsetgroup": "MissingRequiredProperty",
         "opacity": 0.8,
         "orientation": "v",
         "showlegend": true,
         "texttemplate": "%{value}",
         "type": "histogram",
         "x": [
          "QuestionnaireResponse"
         ],
         "xaxis": "x",
         "y": [
          "44.7"
         ],
         "yaxis": "y"
        }
       ],
       "layout": {
        "barmode": "relative",
        "height": 1000,
        "legend": {
         "title": {
          "text": "diagnostics"
         },
         "tracegroupgap": 0
        },
        "template": {
         "data": {
          "bar": [
           {
            "error_x": {
             "color": "#2a3f5f"
            },
            "error_y": {
             "color": "#2a3f5f"
            },
            "marker": {
             "line": {
              "color": "#E5ECF6",
              "width": 0.5
             },
             "pattern": {
              "fillmode": "overlay",
              "size": 10,
              "solidity": 0.2
             }
            },
            "type": "bar"
           }
          ],
          "barpolar": [
           {
            "marker": {
             "line": {
              "color": "#E5ECF6",
              "width": 0.5
             },
             "pattern": {
              "fillmode": "overlay",
              "size": 10,
              "solidity": 0.2
             }
            },
            "type": "barpolar"
           }
          ],
          "carpet": [
           {
            "aaxis": {
             "endlinecolor": "#2a3f5f",
             "gridcolor": "white",
             "linecolor": "white",
             "minorgridcolor": "white",
             "startlinecolor": "#2a3f5f"
            },
            "baxis": {
             "endlinecolor": "#2a3f5f",
             "gridcolor": "white",
             "linecolor": "white",
             "minorgridcolor": "white",
             "startlinecolor": "#2a3f5f"
            },
            "type": "carpet"
           }
          ],
          "choropleth": [
           {
            "colorbar": {
             "outlinewidth": 0,
             "ticks": ""
            },
            "type": "choropleth"
           }
          ],
          "contour": [
           {
            "colorbar": {
             "outlinewidth": 0,
             "ticks": ""
            },
            "colorscale": [
             [
              0,
              "#0d0887"
             ],
             [
              0.1111111111111111,
              "#46039f"
             ],
             [
              0.2222222222222222,
              "#7201a8"
             ],
             [
              0.3333333333333333,
              "#9c179e"
             ],
             [
              0.4444444444444444,
              "#bd3786"
             ],
             [
              0.5555555555555556,
              "#d8576b"
             ],
             [
              0.6666666666666666,
              "#ed7953"
             ],
             [
              0.7777777777777778,
              "#fb9f3a"
             ],
             [
              0.8888888888888888,
              "#fdca26"
             ],
             [
              1,
              "#f0f921"
             ]
            ],
            "type": "contour"
           }
          ],
          "contourcarpet": [
           {
            "colorbar": {
             "outlinewidth": 0,
             "ticks": ""
            },
            "type": "contourcarpet"
           }
          ],
          "heatmap": [
           {
            "colorbar": {
             "outlinewidth": 0,
             "ticks": ""
            },
            "colorscale": [
             [
              0,
              "#0d0887"
             ],
             [
              0.1111111111111111,
              "#46039f"
             ],
             [
              0.2222222222222222,
              "#7201a8"
             ],
             [
              0.3333333333333333,
              "#9c179e"
             ],
             [
              0.4444444444444444,
              "#bd3786"
             ],
             [
              0.5555555555555556,
              "#d8576b"
             ],
             [
              0.6666666666666666,
              "#ed7953"
             ],
             [
              0.7777777777777778,
              "#fb9f3a"
             ],
             [
              0.8888888888888888,
              "#fdca26"
             ],
             [
              1,
              "#f0f921"
             ]
            ],
            "type": "heatmap"
           }
          ],
          "heatmapgl": [
           {
            "colorbar": {
             "outlinewidth": 0,
             "ticks": ""
            },
            "colorscale": [
             [
              0,
              "#0d0887"
             ],
             [
              0.1111111111111111,
              "#46039f"
             ],
             [
              0.2222222222222222,
              "#7201a8"
             ],
             [
              0.3333333333333333,
              "#9c179e"
             ],
             [
              0.4444444444444444,
              "#bd3786"
             ],
             [
              0.5555555555555556,
              "#d8576b"
             ],
             [
              0.6666666666666666,
              "#ed7953"
             ],
             [
              0.7777777777777778,
              "#fb9f3a"
             ],
             [
              0.8888888888888888,
              "#fdca26"
             ],
             [
              1,
              "#f0f921"
             ]
            ],
            "type": "heatmapgl"
           }
          ],
          "histogram": [
           {
            "marker": {
             "pattern": {
              "fillmode": "overlay",
              "size": 10,
              "solidity": 0.2
             }
            },
            "type": "histogram"
           }
          ],
          "histogram2d": [
           {
            "colorbar": {
             "outlinewidth": 0,
             "ticks": ""
            },
            "colorscale": [
             [
              0,
              "#0d0887"
             ],
             [
              0.1111111111111111,
              "#46039f"
             ],
             [
              0.2222222222222222,
              "#7201a8"
             ],
             [
              0.3333333333333333,
              "#9c179e"
             ],
             [
              0.4444444444444444,
              "#bd3786"
             ],
             [
              0.5555555555555556,
              "#d8576b"
             ],
             [
              0.6666666666666666,
              "#ed7953"
             ],
             [
              0.7777777777777778,
              "#fb9f3a"
             ],
             [
              0.8888888888888888,
              "#fdca26"
             ],
             [
              1,
              "#f0f921"
             ]
            ],
            "type": "histogram2d"
           }
          ],
          "histogram2dcontour": [
           {
            "colorbar": {
             "outlinewidth": 0,
             "ticks": ""
            },
            "colorscale": [
             [
              0,
              "#0d0887"
             ],
             [
              0.1111111111111111,
              "#46039f"
             ],
             [
              0.2222222222222222,
              "#7201a8"
             ],
             [
              0.3333333333333333,
              "#9c179e"
             ],
             [
              0.4444444444444444,
              "#bd3786"
             ],
             [
              0.5555555555555556,
              "#d8576b"
             ],
             [
              0.6666666666666666,
              "#ed7953"
             ],
             [
              0.7777777777777778,
              "#fb9f3a"
             ],
             [
              0.8888888888888888,
              "#fdca26"
             ],
             [
              1,
              "#f0f921"
             ]
            ],
            "type": "histogram2dcontour"
           }
          ],
          "mesh3d": [
           {
            "colorbar": {
             "outlinewidth": 0,
             "ticks": ""
            },
            "type": "mesh3d"
           }
          ],
          "parcoords": [
           {
            "line": {
             "colorbar": {
              "outlinewidth": 0,
              "ticks": ""
             }
            },
            "type": "parcoords"
           }
          ],
          "pie": [
           {
            "automargin": true,
            "type": "pie"
           }
          ],
          "scatter": [
           {
            "fillpattern": {
             "fillmode": "overlay",
             "size": 10,
             "solidity": 0.2
            },
            "type": "scatter"
           }
          ],
          "scatter3d": [
           {
            "line": {
             "colorbar": {
              "outlinewidth": 0,
              "ticks": ""
             }
            },
            "marker": {
             "colorbar": {
              "outlinewidth": 0,
              "ticks": ""
             }
            },
            "type": "scatter3d"
           }
          ],
          "scattercarpet": [
           {
            "marker": {
             "colorbar": {
              "outlinewidth": 0,
              "ticks": ""
             }
            },
            "type": "scattercarpet"
           }
          ],
          "scattergeo": [
           {
            "marker": {
             "colorbar": {
              "outlinewidth": 0,
              "ticks": ""
             }
            },
            "type": "scattergeo"
           }
          ],
          "scattergl": [
           {
            "marker": {
             "colorbar": {
              "outlinewidth": 0,
              "ticks": ""
             }
            },
            "type": "scattergl"
           }
          ],
          "scattermapbox": [
           {
            "marker": {
             "colorbar": {
              "outlinewidth": 0,
              "ticks": ""
             }
            },
            "type": "scattermapbox"
           }
          ],
          "scatterpolar": [
           {
            "marker": {
             "colorbar": {
              "outlinewidth": 0,
              "ticks": ""
             }
            },
            "type": "scatterpolar"
           }
          ],
          "scatterpolargl": [
           {
            "marker": {
             "colorbar": {
              "outlinewidth": 0,
              "ticks": ""
             }
            },
            "type": "scatterpolargl"
           }
          ],
          "scatterternary": [
           {
            "marker": {
             "colorbar": {
              "outlinewidth": 0,
              "ticks": ""
             }
            },
            "type": "scatterternary"
           }
          ],
          "surface": [
           {
            "colorbar": {
             "outlinewidth": 0,
             "ticks": ""
            },
            "colorscale": [
             [
              0,
              "#0d0887"
             ],
             [
              0.1111111111111111,
              "#46039f"
             ],
             [
              0.2222222222222222,
              "#7201a8"
             ],
             [
              0.3333333333333333,
              "#9c179e"
             ],
             [
              0.4444444444444444,
              "#bd3786"
             ],
             [
              0.5555555555555556,
              "#d8576b"
             ],
             [
              0.6666666666666666,
              "#ed7953"
             ],
             [
              0.7777777777777778,
              "#fb9f3a"
             ],
             [
              0.8888888888888888,
              "#fdca26"
             ],
             [
              1,
              "#f0f921"
             ]
            ],
            "type": "surface"
           }
          ],
          "table": [
           {
            "cells": {
             "fill": {
              "color": "#EBF0F8"
             },
             "line": {
              "color": "white"
             }
            },
            "header": {
             "fill": {
              "color": "#C8D4E3"
             },
             "line": {
              "color": "white"
             }
            },
            "type": "table"
           }
          ]
         },
         "layout": {
          "annotationdefaults": {
           "arrowcolor": "#2a3f5f",
           "arrowhead": 0,
           "arrowwidth": 1
          },
          "autotypenumbers": "strict",
          "coloraxis": {
           "colorbar": {
            "outlinewidth": 0,
            "ticks": ""
           }
          },
          "colorscale": {
           "diverging": [
            [
             0,
             "#8e0152"
            ],
            [
             0.1,
             "#c51b7d"
            ],
            [
             0.2,
             "#de77ae"
            ],
            [
             0.3,
             "#f1b6da"
            ],
            [
             0.4,
             "#fde0ef"
            ],
            [
             0.5,
             "#f7f7f7"
            ],
            [
             0.6,
             "#e6f5d0"
            ],
            [
             0.7,
             "#b8e186"
            ],
            [
             0.8,
             "#7fbc41"
            ],
            [
             0.9,
             "#4d9221"
            ],
            [
             1,
             "#276419"
            ]
           ],
           "sequential": [
            [
             0,
             "#0d0887"
            ],
            [
             0.1111111111111111,
             "#46039f"
            ],
            [
             0.2222222222222222,
             "#7201a8"
            ],
            [
             0.3333333333333333,
             "#9c179e"
            ],
            [
             0.4444444444444444,
             "#bd3786"
            ],
            [
             0.5555555555555556,
             "#d8576b"
            ],
            [
             0.6666666666666666,
             "#ed7953"
            ],
            [
             0.7777777777777778,
             "#fb9f3a"
            ],
            [
             0.8888888888888888,
             "#fdca26"
            ],
            [
             1,
             "#f0f921"
            ]
           ],
           "sequentialminus": [
            [
             0,
             "#0d0887"
            ],
            [
             0.1111111111111111,
             "#46039f"
            ],
            [
             0.2222222222222222,
             "#7201a8"
            ],
            [
             0.3333333333333333,
             "#9c179e"
            ],
            [
             0.4444444444444444,
             "#bd3786"
            ],
            [
             0.5555555555555556,
             "#d8576b"
            ],
            [
             0.6666666666666666,
             "#ed7953"
            ],
            [
             0.7777777777777778,
             "#fb9f3a"
            ],
            [
             0.8888888888888888,
             "#fdca26"
            ],
            [
             1,
             "#f0f921"
            ]
           ]
          },
          "colorway": [
           "#636efa",
           "#EF553B",
           "#00cc96",
           "#ab63fa",
           "#FFA15A",
           "#19d3f3",
           "#FF6692",
           "#B6E880",
           "#FF97FF",
           "#FECB52"
          ],
          "font": {
           "color": "#2a3f5f"
          },
          "geo": {
           "bgcolor": "white",
           "lakecolor": "white",
           "landcolor": "#E5ECF6",
           "showlakes": true,
           "showland": true,
           "subunitcolor": "white"
          },
          "hoverlabel": {
           "align": "left"
          },
          "hovermode": "closest",
          "mapbox": {
           "style": "light"
          },
          "paper_bgcolor": "white",
          "plot_bgcolor": "#E5ECF6",
          "polar": {
           "angularaxis": {
            "gridcolor": "white",
            "linecolor": "white",
            "ticks": ""
           },
           "bgcolor": "#E5ECF6",
           "radialaxis": {
            "gridcolor": "white",
            "linecolor": "white",
            "ticks": ""
           }
          },
          "scene": {
           "xaxis": {
            "backgroundcolor": "#E5ECF6",
            "gridcolor": "white",
            "gridwidth": 2,
            "linecolor": "white",
            "showbackground": true,
            "ticks": "",
            "zerolinecolor": "white"
           },
           "yaxis": {
            "backgroundcolor": "#E5ECF6",
            "gridcolor": "white",
            "gridwidth": 2,
            "linecolor": "white",
            "showbackground": true,
            "ticks": "",
            "zerolinecolor": "white"
           },
           "zaxis": {
            "backgroundcolor": "#E5ECF6",
            "gridcolor": "white",
            "gridwidth": 2,
            "linecolor": "white",
            "showbackground": true,
            "ticks": "",
            "zerolinecolor": "white"
           }
          },
          "shapedefaults": {
           "line": {
            "color": "#2a3f5f"
           }
          },
          "ternary": {
           "aaxis": {
            "gridcolor": "white",
            "linecolor": "white",
            "ticks": ""
           },
           "baxis": {
            "gridcolor": "white",
            "linecolor": "white",
            "ticks": ""
           },
           "bgcolor": "#E5ECF6",
           "caxis": {
            "gridcolor": "white",
            "linecolor": "white",
            "ticks": ""
           }
          },
          "title": {
           "x": 0.05
          },
          "xaxis": {
           "automargin": true,
           "gridcolor": "white",
           "linecolor": "white",
           "ticks": "",
           "title": {
            "standoff": 15
           },
           "zerolinecolor": "white",
           "zerolinewidth": 2
          },
          "yaxis": {
           "automargin": true,
           "gridcolor": "white",
           "linecolor": "white",
           "ticks": "",
           "title": {
            "standoff": 15
           },
           "zerolinecolor": "white",
           "zerolinewidth": 2
          }
         }
        },
        "title": {
         "text": "Errored Resources"
        },
        "width": 700,
        "xaxis": {
         "anchor": "y",
         "domain": [
          0,
          1
         ],
         "title": {
          "text": "Resource Type"
         }
        },
        "yaxis": {
         "anchor": "x",
         "domain": [
          0,
          1
         ],
         "title": {
          "text": "Percentage %"
         }
        }
       }
      }
     },
     "metadata": {},
     "output_type": "display_data"
    }
   ],
   "source": [
    "# Plot as percentage\n",
    "df_plot = df_filtered[df_filtered['resourceType'].isin(['Location', 'List', 'DiagnosticReport', 'Observation', 'QuestionnaireResponse'])][['resourceType','Percentage', 'Count', 'ResourceTypeCount', 'diagnostics']].drop_duplicates().sort_values(by=['resourceType'])\n",
    "fig = px.histogram(df_plot, x=\"resourceType\", y=\"Percentage\", color=\"diagnostics\", title=\"Errored Resources\", text_auto=True, height=1000, width = 700, color_discrete_sequence=px.colors.qualitative.G10)\n",
    "fig.update_layout(xaxis_title=\"Resource Type\", yaxis_title=\"Percentage %\")\n",
    "fig.update_traces(marker_line_width=.1, marker_line_color='rgb(8,48,107)', opacity=0.8)\n",
    "\n",
    "fig.show()\n",
    "#['#46039f', '#9c179e', '#fb9f3a', '#f0f921']\n"
   ]
  },
  {
   "cell_type": "code",
   "execution_count": 44,
   "metadata": {},
   "outputs": [
    {
     "data": {
      "text/html": [
       "<div>\n",
       "<style scoped>\n",
       "    .dataframe tbody tr th:only-of-type {\n",
       "        vertical-align: middle;\n",
       "    }\n",
       "\n",
       "    .dataframe tbody tr th {\n",
       "        vertical-align: top;\n",
       "    }\n",
       "\n",
       "    .dataframe thead th {\n",
       "        text-align: right;\n",
       "    }\n",
       "</style>\n",
       "<table border=\"1\" class=\"dataframe\">\n",
       "  <thead>\n",
       "    <tr style=\"text-align: right;\">\n",
       "      <th></th>\n",
       "      <th>resourceType</th>\n",
       "      <th>Percentage</th>\n",
       "      <th>Count</th>\n",
       "      <th>ResourceTypeCount</th>\n",
       "      <th>diagnostics</th>\n",
       "    </tr>\n",
       "  </thead>\n",
       "  <tbody>\n",
       "    <tr>\n",
       "      <th>35259</th>\n",
       "      <td>DiagnosticReport</td>\n",
       "      <td>0.2%</td>\n",
       "      <td>3</td>\n",
       "      <td>1449</td>\n",
       "      <td>EmptyValue</td>\n",
       "    </tr>\n",
       "    <tr>\n",
       "      <th>0</th>\n",
       "      <td>List</td>\n",
       "      <td>2.6%</td>\n",
       "      <td>478</td>\n",
       "      <td>18515</td>\n",
       "      <td>EmptyValue</td>\n",
       "    </tr>\n",
       "    <tr>\n",
       "      <th>25941</th>\n",
       "      <td>DiagnosticReport</td>\n",
       "      <td>21.0%</td>\n",
       "      <td>305</td>\n",
       "      <td>1449</td>\n",
       "      <td>InvalidReferenceTarget</td>\n",
       "    </tr>\n",
       "    <tr>\n",
       "      <th>356</th>\n",
       "      <td>Location</td>\n",
       "      <td>32.5%</td>\n",
       "      <td>327</td>\n",
       "      <td>1005</td>\n",
       "      <td>EmptyValue</td>\n",
       "    </tr>\n",
       "    <tr>\n",
       "      <th>38273</th>\n",
       "      <td>QuestionnaireResponse</td>\n",
       "      <td>44.7%</td>\n",
       "      <td>98</td>\n",
       "      <td>219</td>\n",
       "      <td>MissingRequiredProperty</td>\n",
       "    </tr>\n",
       "    <tr>\n",
       "      <th>26046</th>\n",
       "      <td>Observation</td>\n",
       "      <td>7.3%</td>\n",
       "      <td>1817</td>\n",
       "      <td>24831</td>\n",
       "      <td>InvalidReferenceTarget</td>\n",
       "    </tr>\n",
       "  </tbody>\n",
       "</table>\n",
       "</div>"
      ],
      "text/plain": [
       "                resourceType Percentage  Count  ResourceTypeCount   \n",
       "35259       DiagnosticReport       0.2%      3               1449  \\\n",
       "0                       List       2.6%    478              18515   \n",
       "25941       DiagnosticReport      21.0%    305               1449   \n",
       "356                 Location      32.5%    327               1005   \n",
       "38273  QuestionnaireResponse      44.7%     98                219   \n",
       "26046            Observation       7.3%   1817              24831   \n",
       "\n",
       "                   diagnostics  \n",
       "35259               EmptyValue  \n",
       "0                   EmptyValue  \n",
       "25941   InvalidReferenceTarget  \n",
       "356                 EmptyValue  \n",
       "38273  MissingRequiredProperty  \n",
       "26046   InvalidReferenceTarget  "
      ]
     },
     "execution_count": 44,
     "metadata": {},
     "output_type": "execute_result"
    }
   ],
   "source": [
    "df_plotreport = df_plot.sort_values(by=['Percentage'], ascending=[False])\n",
    "#df_plotreport['Percentage'] = df_filtered['Percentage'].apply(lambda x: f\"{x:.4}\")\n",
    "\n",
    "df_plotreport.drop(df_plotreport[df_plotreport['diagnostics'] == 'OK'].index, inplace=True)\n",
    "df_plotreport = df_plotreport.sort_values(by=['Percentage'])\n",
    "df_plotreport['Percentage'] = df_filtered['Percentage'].apply(lambda x: f\"{x:.4}%\")\n",
    "df_plotreport"
   ]
  },
  {
   "cell_type": "code",
   "execution_count": null,
   "metadata": {},
   "outputs": [],
   "source": [
    "# Plot as percentage\n",
    "df_plot = df_filtered[df_filtered['resourceType'].isin(['MedicationRequest', 'Encounter', 'Specimen'])][['resourceType','Percentage', 'diagnostics']].drop_duplicates()\n",
    "fig = px.histogram(df_plot, x=\"resourceType\", y=\"Percentage\", color=\"diagnostics\", title=\"Errored Resources\", height=800, width = 700)\n",
    "fig.update_traces(marker_line_width=1.5, opacity=0.6)\n",
    "fig.show()"
   ]
  },
  {
   "cell_type": "code",
   "execution_count": 25,
   "metadata": {},
   "outputs": [
    {
     "data": {
      "text/html": [
       "<div>\n",
       "<style scoped>\n",
       "    .dataframe tbody tr th:only-of-type {\n",
       "        vertical-align: middle;\n",
       "    }\n",
       "\n",
       "    .dataframe tbody tr th {\n",
       "        vertical-align: top;\n",
       "    }\n",
       "\n",
       "    .dataframe thead th {\n",
       "        text-align: right;\n",
       "    }\n",
       "</style>\n",
       "<table border=\"1\" class=\"dataframe\">\n",
       "  <thead>\n",
       "    <tr style=\"text-align: right;\">\n",
       "      <th></th>\n",
       "      <th>resourceType</th>\n",
       "      <th>Count</th>\n",
       "      <th>ResourceTypeCount</th>\n",
       "      <th>Percentage</th>\n",
       "      <th>diagnostics</th>\n",
       "      <th>text</th>\n",
       "    </tr>\n",
       "  </thead>\n",
       "  <tbody>\n",
       "    <tr>\n",
       "      <th>0</th>\n",
       "      <td>List</td>\n",
       "      <td>478</td>\n",
       "      <td>18515</td>\n",
       "      <td>2.6</td>\n",
       "      <td>EmptyValue</td>\n",
       "      <td>Property 'id' of Type 'List' cannot be null or...</td>\n",
       "    </tr>\n",
       "    <tr>\n",
       "      <th>356</th>\n",
       "      <td>Location</td>\n",
       "      <td>327</td>\n",
       "      <td>1005</td>\n",
       "      <td>32.5</td>\n",
       "      <td>EmptyValue</td>\n",
       "      <td>Property 'description' of Type 'Location' cann...</td>\n",
       "    </tr>\n",
       "    <tr>\n",
       "      <th>544</th>\n",
       "      <td>MedicationRequest</td>\n",
       "      <td>7</td>\n",
       "      <td>14276</td>\n",
       "      <td>0.0</td>\n",
       "      <td>EmptyValue</td>\n",
       "      <td>Property 'text' of Type 'CodeableConcept' cann...</td>\n",
       "    </tr>\n",
       "    <tr>\n",
       "      <th>24711</th>\n",
       "      <td>List</td>\n",
       "      <td>478</td>\n",
       "      <td>18515</td>\n",
       "      <td>2.6</td>\n",
       "      <td>EmptyValue</td>\n",
       "      <td>Property 'title' of Type 'List' cannot be null...</td>\n",
       "    </tr>\n",
       "    <tr>\n",
       "      <th>24762</th>\n",
       "      <td>Encounter</td>\n",
       "      <td>4</td>\n",
       "      <td>5331</td>\n",
       "      <td>0.1</td>\n",
       "      <td>EmptyValue</td>\n",
       "      <td>Property 'text' of Type 'CodeableConcept' cann...</td>\n",
       "    </tr>\n",
       "    <tr>\n",
       "      <th>...</th>\n",
       "      <td>...</td>\n",
       "      <td>...</td>\n",
       "      <td>...</td>\n",
       "      <td>...</td>\n",
       "      <td>...</td>\n",
       "      <td>...</td>\n",
       "    </tr>\n",
       "    <tr>\n",
       "      <th>81010</th>\n",
       "      <td>Observation</td>\n",
       "      <td>1817</td>\n",
       "      <td>24831</td>\n",
       "      <td>7.3</td>\n",
       "      <td>InvalidReferenceTarget</td>\n",
       "      <td>The referenced resource type 'HealthcareServic...</td>\n",
       "    </tr>\n",
       "    <tr>\n",
       "      <th>81020</th>\n",
       "      <td>Observation</td>\n",
       "      <td>1817</td>\n",
       "      <td>24831</td>\n",
       "      <td>7.3</td>\n",
       "      <td>InvalidReferenceTarget</td>\n",
       "      <td>The referenced resource type 'HealthcareServic...</td>\n",
       "    </tr>\n",
       "    <tr>\n",
       "      <th>81038</th>\n",
       "      <td>Observation</td>\n",
       "      <td>1817</td>\n",
       "      <td>24831</td>\n",
       "      <td>7.3</td>\n",
       "      <td>InvalidReferenceTarget</td>\n",
       "      <td>The referenced resource type 'HealthcareServic...</td>\n",
       "    </tr>\n",
       "    <tr>\n",
       "      <th>89528</th>\n",
       "      <td>DiagnosticReport</td>\n",
       "      <td>305</td>\n",
       "      <td>1449</td>\n",
       "      <td>21.0</td>\n",
       "      <td>InvalidReferenceTarget</td>\n",
       "      <td>The referenced resource type 'HealthcareServic...</td>\n",
       "    </tr>\n",
       "    <tr>\n",
       "      <th>89680</th>\n",
       "      <td>Observation</td>\n",
       "      <td>1817</td>\n",
       "      <td>24831</td>\n",
       "      <td>7.3</td>\n",
       "      <td>InvalidReferenceTarget</td>\n",
       "      <td>The referenced resource type 'HealthcareServic...</td>\n",
       "    </tr>\n",
       "  </tbody>\n",
       "</table>\n",
       "<p>118 rows × 6 columns</p>\n",
       "</div>"
      ],
      "text/plain": [
       "            resourceType  Count  ResourceTypeCount Percentage   \n",
       "0                   List    478              18515        2.6  \\\n",
       "356             Location    327               1005       32.5   \n",
       "544    MedicationRequest      7              14276        0.0   \n",
       "24711               List    478              18515        2.6   \n",
       "24762          Encounter      4               5331        0.1   \n",
       "...                  ...    ...                ...        ...   \n",
       "81010        Observation   1817              24831        7.3   \n",
       "81020        Observation   1817              24831        7.3   \n",
       "81038        Observation   1817              24831        7.3   \n",
       "89528   DiagnosticReport    305               1449       21.0   \n",
       "89680        Observation   1817              24831        7.3   \n",
       "\n",
       "                  diagnostics   \n",
       "0                  EmptyValue  \\\n",
       "356                EmptyValue   \n",
       "544                EmptyValue   \n",
       "24711              EmptyValue   \n",
       "24762              EmptyValue   \n",
       "...                       ...   \n",
       "81010  InvalidReferenceTarget   \n",
       "81020  InvalidReferenceTarget   \n",
       "81038  InvalidReferenceTarget   \n",
       "89528  InvalidReferenceTarget   \n",
       "89680  InvalidReferenceTarget   \n",
       "\n",
       "                                                    text  \n",
       "0      Property 'id' of Type 'List' cannot be null or...  \n",
       "356    Property 'description' of Type 'Location' cann...  \n",
       "544    Property 'text' of Type 'CodeableConcept' cann...  \n",
       "24711  Property 'title' of Type 'List' cannot be null...  \n",
       "24762  Property 'text' of Type 'CodeableConcept' cann...  \n",
       "...                                                  ...  \n",
       "81010  The referenced resource type 'HealthcareServic...  \n",
       "81020  The referenced resource type 'HealthcareServic...  \n",
       "81038  The referenced resource type 'HealthcareServic...  \n",
       "89528  The referenced resource type 'HealthcareServic...  \n",
       "89680  The referenced resource type 'HealthcareServic...  \n",
       "\n",
       "[118 rows x 6 columns]"
      ]
     },
     "execution_count": 25,
     "metadata": {},
     "output_type": "execute_result"
    }
   ],
   "source": [
    "df_table = df_filtered[['resourceType', 'Count', 'ResourceTypeCount', 'Percentage', 'diagnostics', 'text']].drop_duplicates()\n",
    "\n",
    "\n",
    "df_table.drop(df_table[df_table['diagnostics'] == 'OK'].index, inplace=True)\n",
    "\n",
    "df_table"
   ]
  },
  {
   "cell_type": "code",
   "execution_count": null,
   "metadata": {},
   "outputs": [],
   "source": [
    "total_resource_type_count = df_table['ResourceTypeCount'].sum()\n",
    "total_count = df_table['Count'].sum()\n",
    "\n",
    "print(total_count, total_resource_type_count, total_count/total_resource_type_count*100)"
   ]
  },
  {
   "cell_type": "code",
   "execution_count": null,
   "metadata": {},
   "outputs": [],
   "source": [
    "df_filtered"
   ]
  }
 ],
 "metadata": {
  "kernelspec": {
   "display_name": "Python 3",
   "language": "python",
   "name": "python3"
  },
  "language_info": {
   "codemirror_mode": {
    "name": "ipython",
    "version": 3
   },
   "file_extension": ".py",
   "mimetype": "text/x-python",
   "name": "python",
   "nbconvert_exporter": "python",
   "pygments_lexer": "ipython3",
   "version": "3.9.1"
  }
 },
 "nbformat": 4,
 "nbformat_minor": 2
}
